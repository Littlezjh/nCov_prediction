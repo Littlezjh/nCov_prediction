{
 "cells": [
  {
   "cell_type": "code",
   "execution_count": 1,
   "outputs": [],
   "source": [
    "import pandas as pd\n",
    "import numpy as np\n",
    "import matplotlib\n",
    "import matplotlib.pyplot as plt\n",
    "\n",
    "import torch\n",
    "import torch.nn as nn\n",
    "from models import LSTNet\n",
    "import importlib\n",
    "\n",
    "from utils import *;\n",
    "import Optim\n",
    "\n",
    "#显示中文\n",
    "plt.rcParams['font.sans-serif'] = [u'SimHei']\n",
    "plt.rcParams['axes.unicode_minus'] = False\n",
    "\n",
    "data_path='D:/Codes/nCov/LSTNet-master/data/'"
   ],
   "metadata": {
    "collapsed": false,
    "pycharm": {
     "name": "#%%\n",
     "is_executing": false
    }
   }
  },
  {
   "cell_type": "code",
   "execution_count": 2,
   "outputs": [],
   "source": [
    "inputfile=\"D:/Codes/nCov/data/out_increase_province_2.20.csv\"\n",
    "\n",
    "# 显示所有列\n",
    "pd.set_option('display.max_columns', None)\n",
    "# 显示所有行\n",
    "pd.set_option('display.max_rows', None)\n",
    "# 设置value的显示长度为100，默认为50\n",
    "pd.set_option('max_colwidth', 200)\n",
    "\n",
    "#读取数据\n",
    "dataf = pd.read_csv(inputfile, encoding='UTF-8')"
   ],
   "metadata": {
    "collapsed": false,
    "pycharm": {
     "name": "#%%\n",
     "is_executing": false
    }
   }
  },
  {
   "cell_type": "code",
   "execution_count": 33,
   "outputs": [
    {
     "name": "stdout",
     "text": [
      "          0           1            2\n",
      "0 -2.228494  157.335922 -1243.747070\n",
      "0 -2.586249  156.800323 -1244.795166\n",
      "0 -2.069928  158.099258 -1244.472900\n",
      "0 -2.535487  157.366745 -1244.958252\n",
      "0 -2.463484  158.325500 -1244.209229\n"
     ],
     "output_type": "stream"
    }
   ],
   "source": [
    "#预测湖北省\n",
    "later_5=pd.DataFrame()\n",
    "for i in range(1,6):\n",
    "    #读取模型\n",
    "    with open('save_2/hubei_%s.pt'%(str(i)), 'rb') as f:\n",
    "        model = torch.load(f)\n",
    "    data_zj=pd.read_table('data/data_hubei.txt',header=None,sep=',')\n",
    "    data_zj=data_zj[::-1]\n",
    "    dt=data_zj.iloc[3:8,:]\n",
    "    dt=dt[::-1]\n",
    "    #预测的前5个值\n",
    "    first_5=dt\n",
    "    dt=dt.values\n",
    "    dt=np.expand_dims(dt,axis=0)\n",
    "    x=Variable(torch.FloatTensor(dt))\n",
    "    y=model(x).data.numpy()\n",
    "    later_5=later_5.append(pd.DataFrame(y))\n",
    "print(later_5)"
   ],
   "metadata": {
    "collapsed": false,
    "pycharm": {
     "name": "#%%\n",
     "is_executing": false
    }
   }
  },
  {
   "cell_type": "code",
   "execution_count": 34,
   "outputs": [
    {
     "name": "stdout",
     "text": [
      "           0           1            2\n",
      "0 -11.710867  157.503372 -1236.437500\n",
      "0 -11.782688  158.251999 -1237.862183\n",
      "0 -11.804534  159.128799 -1238.042480\n",
      "0 -11.729091  159.358353 -1239.039062\n",
      "0 -11.841128  160.147400 -1239.651123\n"
     ],
     "output_type": "stream"
    }
   ],
   "source": [
    "#预测浙江省\n",
    "later_5=pd.DataFrame()\n",
    "for i in range(1,6):\n",
    "    #读取模型\n",
    "    with open('save_2/zhejiang_%s.pt'%(str(i)), 'rb') as f:\n",
    "        model = torch.load(f)\n",
    "    data_zj=pd.read_table('data/data_hubei.txt',header=None,sep=',')\n",
    "    data_zj=data_zj[::-1]\n",
    "    dt=data_zj.iloc[3:8,:]\n",
    "    dt=dt[::-1]\n",
    "    #预测的前5个值\n",
    "    first_5=dt\n",
    "    dt=dt.values\n",
    "    dt=np.expand_dims(dt,axis=0)\n",
    "    x=Variable(torch.FloatTensor(dt))\n",
    "    y=model(x).data.numpy()\n",
    "    later_5=later_5.append(pd.DataFrame(y))\n",
    "print(later_5)"
   ],
   "metadata": {
    "collapsed": false,
    "pycharm": {
     "name": "#%%\n",
     "is_executing": false
    }
   }
  },
  {
   "cell_type": "code",
   "execution_count": 28,
   "outputs": [
    {
     "name": "stdout",
     "text": [
      "          0          1          2\n",
      "0 -0.171795  14.376976  10.219653\n",
      "0 -0.249247  14.735184   9.340220\n",
      "0 -0.141204  15.614159   9.577433\n",
      "0 -0.146285  15.473071   9.492915\n",
      "0 -0.237153  15.934706   9.287643\n"
     ],
     "output_type": "stream"
    }
   ],
   "source": [
    "print(later_5)"
   ],
   "metadata": {
    "collapsed": false,
    "pycharm": {
     "name": "#%%\n",
     "is_executing": false
    }
   }
  },
  {
   "cell_type": "code",
   "execution_count": 29,
   "outputs": [
    {
     "name": "stdout",
     "text": [
      "          0          1          2\n",
      "0  0.000000  28.000000  25.000000\n",
      "1  0.000000  51.000000  14.000000\n",
      "2  0.000000  39.000000  14.000000\n",
      "3  0.000000  43.000000  10.000000\n",
      "4  0.000000  25.000000   7.000000\n",
      "5 -0.171795  14.376976  10.219653\n",
      "6 -0.249247  14.735184   9.340220\n",
      "7 -0.141204  15.614159   9.577433\n",
      "8 -0.146285  15.473071   9.492915\n",
      "9 -0.237153  15.934706   9.287643\n"
     ],
     "output_type": "stream"
    }
   ],
   "source": [
    "predict_10=first_5.append(later_5).reset_index(drop=True)\n",
    "print(predict_10)"
   ],
   "metadata": {
    "collapsed": false,
    "pycharm": {
     "name": "#%%\n",
     "is_executing": false
    }
   }
  },
  {
   "cell_type": "code",
   "execution_count": 30,
   "outputs": [
    {
     "name": "stdout",
     "text": [
      "     0     1     2\n",
      "0  0.0  28.0  25.0\n",
      "1  0.0  51.0  14.0\n",
      "2  0.0  39.0  14.0\n",
      "3  0.0  43.0  10.0\n",
      "4  0.0  25.0   7.0\n",
      "5  0.0  28.0   5.0\n",
      "6  0.0  51.0   4.0\n",
      "7  0.0  28.0   1.0\n",
      "8  0.0  69.0   2.0\n",
      "9  1.0   9.0   1.0\n"
     ],
     "output_type": "stream"
    }
   ],
   "source": [
    "#读取真实值\n",
    "data_true=pd.read_table('data/data_zhejiang_2.20.txt',header=None,sep=',')\n",
    "data_true=data_true.iloc[-10:,:].reset_index(drop=True)\n",
    "print(data_true)"
   ],
   "metadata": {
    "collapsed": false,
    "pycharm": {
     "name": "#%%\n",
     "is_executing": false
    }
   }
  },
  {
   "cell_type": "code",
   "execution_count": 31,
   "outputs": [
    {
     "data": {
      "text/plain": "<Figure size 432x288 with 1 Axes>",
      "image/png": "[encoded data removed]"
     },
     "metadata": {
      "needs_background": "light"
     },
     "output_type": "display_data"
    }
   ],
   "source": [
    "#显示新增治愈图像\n",
    "plt.plot(data_true.iloc[:,1],label='实际值')\n",
    "plt.plot(predict_10.iloc[:,1],label='预测值')\n",
    "plt.legend()\n",
    "plt.title('浙江省新增治愈对比图')\n",
    "plt.savefig('figure_2/浙江省新增治愈对比图.png',dpi=500)"
   ],
   "metadata": {
    "collapsed": false,
    "pycharm": {
     "name": "#%%\n",
     "is_executing": false
    }
   }
  },
  {
   "cell_type": "code",
   "execution_count": 32,
   "outputs": [
    {
     "data": {
      "text/plain": "<Figure size 432x288 with 1 Axes>",
      "image/png": "[encoded data removed]"
     },
     "metadata": {
      "needs_background": "light"
     },
     "output_type": "display_data"
    }
   ],
   "source": [
    "plt.plot(data_true.iloc[:,2],label='实际值')\n",
    "plt.plot(predict_10.iloc[:,2],label='预测值')\n",
    "plt.legend()\n",
    "plt.title('浙江省新增确诊对比图')\n",
    "plt.savefig('figure_2/浙江省新增确诊对比图.png',dpi=500)"
   ],
   "metadata": {
    "collapsed": false,
    "pycharm": {
     "name": "#%%\n",
     "is_executing": false
    }
   }
  },
  {
   "cell_type": "code",
   "execution_count": 25,
   "outputs": [
    {
     "data": {
      "text/plain": "<Figure size 432x288 with 1 Axes>",
      "image/png": "[encoded data removed]"
     },
     "metadata": {
      "needs_background": "light"
     },
     "output_type": "display_data"
    }
   ],
   "source": [
    "plt.plot(data_true.iloc[:,0],label='实际值')\n",
    "plt.plot(predict_10.iloc[:,0],label='预测值')\n",
    "plt.legend()\n",
    "plt.title('湖北省新增死亡对比图')\n",
    "plt.savefig('figure_2/湖北省新增死亡对比图.png',dpi=500)\n"
   ],
   "metadata": {
    "collapsed": false,
    "pycharm": {
     "name": "#%%\n",
     "is_executing": false
    }
   }
  }
 ],
 "metadata": {
  "kernelspec": {
   "name": "pycharm-d9d7c811",
   "language": "python",
   "display_name": "PyCharm (nCov)"
  },
  "language_info": {
   "codemirror_mode": {
    "name": "ipython",
    "version": 2
   },
   "file_extension": ".py",
   "mimetype": "text/x-python",
   "name": "python",
   "nbconvert_exporter": "python",
   "pygments_lexer": "ipython2",
   "version": "2.7.6"
  },
  "pycharm": {
   "stem_cell": {
    "cell_type": "raw",
    "source": [],
    "metadata": {
     "collapsed": false
    }
   }
  }
 },
 "nbformat": 4,
 "nbformat_minor": 0
}