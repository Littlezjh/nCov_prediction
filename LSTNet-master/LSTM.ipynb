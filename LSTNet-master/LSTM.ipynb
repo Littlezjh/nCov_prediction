{
 "cells": [
  {
   "cell_type": "code",
   "execution_count": 2,
   "outputs": [],
   "source": [
    "import pandas as pd\n",
    "import numpy as np\n",
    "import matplotlib\n",
    "import matplotlib.pyplot as plt\n",
    "\n",
    "import torch\n",
    "import torch.nn as nn\n",
    "from models import LSTNet\n",
    "import importlib\n",
    "\n",
    "from utils import *;\n",
    "import Optim\n",
    "\n",
    "#显示中文\n",
    "plt.rcParams['font.sans-serif'] = [u'SimHei']\n",
    "plt.rcParams['axes.unicode_minus'] = False\n",
    "\n",
    "data_path='D:/Codes/nCov/LSTNet-master/data/'"
   ],
   "metadata": {
    "collapsed": false,
    "pycharm": {
     "name": "#%%\n",
     "is_executing": false
    }
   }
  },
  {
   "cell_type": "code",
   "execution_count": 11,
   "outputs": [
    {
     "name": "stdout",
     "text": [
      "[[  0.   1.  43.]\n",
      " [  0.   0.  19.]\n",
      " [  0.   0.  42.]\n",
      " [  0.   0.  24.]\n",
      " [  0.   2.  45.]\n",
      " [  0.   0. 123.]\n",
      " [  0.   1. 132.]\n",
      " [  0.  10. 110.]\n",
      " [  0.   7.  61.]\n",
      " [  0.  11.  62.]\n",
      " [  0.  11.  63.]\n",
      " [  0.  19. 105.]\n",
      " [  0.  16.  66.]\n",
      " [  0.  16.  59.]\n",
      " [  0.  29.  52.]\n",
      " [  0.  52.  42.]\n",
      " [  0.  26.  27.]\n",
      " [  0.  41.  17.]\n",
      " [  0.  28.  25.]\n",
      " [  0.  51.  14.]\n",
      " [  0.  39.  14.]\n",
      " [  0.  43.  10.]\n",
      " [  0.  25.   7.]\n",
      " [  0.  28.   5.]\n",
      " [  0.  51.   4.]\n",
      " [  0.  28.   1.]]\n",
      "[[0.         0.01923077 0.32575758]\n",
      " [0.         0.         0.14393939]\n",
      " [0.         0.         0.31818182]\n",
      " [0.         0.         0.18181818]\n",
      " [0.         0.03846154 0.34090909]\n",
      " [0.         0.         0.93181818]\n",
      " [0.         0.01923077 1.        ]\n",
      " [0.         0.19230769 0.83333333]\n",
      " [0.         0.13461538 0.46212121]\n",
      " [0.         0.21153846 0.46969697]\n",
      " [0.         0.21153846 0.47727273]\n",
      " [0.         0.36538462 0.79545455]\n",
      " [0.         0.30769231 0.5       ]\n",
      " [0.         0.30769231 0.4469697 ]\n",
      " [0.         0.55769231 0.39393939]\n",
      " [0.         1.         0.31818182]\n",
      " [0.         0.5        0.20454545]\n",
      " [0.         0.78846154 0.12878788]\n",
      " [0.         0.53846154 0.18939394]\n",
      " [0.         0.98076923 0.10606061]\n",
      " [0.         0.75       0.10606061]\n",
      " [0.         0.82692308 0.07575758]\n",
      " [0.         0.48076923 0.0530303 ]\n",
      " [0.         0.53846154 0.03787879]\n",
      " [0.         0.98076923 0.03030303]\n",
      " [0.         0.53846154 0.00757576]]\n"
     ],
     "output_type": "stream"
    }
   ],
   "source": [
    "fin=open('data/data_zhejiang.txt')\n",
    "rawdat=np.loadtxt(fin,delimiter=',');\n",
    "print(rawdat)\n",
    "scale=np.ones(3)\n",
    "dat=np.zeros(rawdat.shape)\n",
    "for i in range(3):\n",
    "    scale[i] = np.max(np.abs(rawdat[:,i]));\n",
    "    if(scale[i]==0):\n",
    "        scale[i]=1\n",
    "    dat[:,i] = rawdat[:,i] / scale[i];\n",
    "print(dat)"
   ],
   "metadata": {
    "collapsed": false,
    "pycharm": {
     "name": "#%%\n",
     "is_executing": false
    }
   }
  },
  {
   "cell_type": "code",
   "execution_count": 7,
   "outputs": [],
   "source": [
    "inputfile=\"D:/Codes/nCov/data/out_increase_province_2.26.csv\"\n",
    "\n",
    "# 显示所有列\n",
    "pd.set_option('display.max_columns', None)\n",
    "# 显示所有行\n",
    "pd.set_option('display.max_rows', None)\n",
    "# 设置value的显示长度为100，默认为50\n",
    "pd.set_option('max_colwidth', 200)\n",
    "\n",
    "#读取数据\n",
    "dataf = pd.read_csv(inputfile, encoding='UTF-8')"
   ],
   "metadata": {
    "collapsed": false,
    "pycharm": {
     "name": "#%%\n",
     "is_executing": false
    }
   }
  },
  {
   "cell_type": "code",
   "execution_count": 8,
   "outputs": [
    {
     "name": "stdout",
     "text": [
      "     新增死亡  新增治愈   新增确诊\n",
      "306   0.0  59.0    0.0\n",
      "307   0.0  26.0    0.0\n",
      "308   0.0  22.0    0.0\n",
      "309   0.0  41.0    0.0\n",
      "310   0.0  40.0    2.0\n",
      "311   0.0  46.0   28.0\n",
      "312   1.0  29.0    1.0\n",
      "313   0.0  69.0    2.0\n",
      "314   0.0  28.0    1.0\n",
      "315   0.0  51.0    4.0\n",
      "316   0.0  28.0    5.0\n",
      "317   0.0  25.0    7.0\n",
      "318   0.0  43.0   10.0\n",
      "319   0.0  39.0   14.0\n",
      "320   0.0  51.0   14.0\n",
      "321   0.0  28.0   25.0\n",
      "322   0.0  41.0   17.0\n",
      "323   0.0  26.0   27.0\n",
      "324   0.0  52.0   42.0\n",
      "325   0.0  29.0   52.0\n",
      "326   0.0  16.0   59.0\n",
      "327   0.0  16.0   66.0\n",
      "328   0.0  19.0  105.0\n",
      "329  -1.0  11.0   63.0\n",
      "330   1.0  11.0   62.0\n",
      "331   0.0   7.0   61.0\n",
      "332   0.0  10.0  110.0\n",
      "333   0.0   1.0  132.0\n",
      "334   0.0   0.0  123.0\n",
      "335   0.0   2.0   45.0\n",
      "336   0.0   0.0   24.0\n",
      "337   0.0   0.0   42.0\n",
      "338   0.0   0.0   19.0\n",
      "339   0.0   1.0   43.0\n"
     ],
     "output_type": "stream"
    }
   ],
   "source": [
    "#提取对应省份的数据\n",
    "data_zhejiang=dataf.loc[dataf['省']=='浙江省'].iloc[:,1:4]\n",
    "print(data_zhejiang)\n",
    "#对数据进行处理，将数据中的负数消除\n",
    "for index,data in data_zhejiang.iterrows():\n",
    "    for name in data.iteritems():\n",
    "        if name[1]<0:\n",
    "            # data_zhejiang.loc[index+1,name[0]]+=name[1]\n",
    "            data_zhejiang.loc[index,name[0]]=0\n",
    "data_zj=data_zhejiang.iloc[::-1]\n",
    "data_zj.to_csv(data_path+'data_zhejiang_2.26.txt', header=0,index=False)"
   ],
   "metadata": {
    "collapsed": false,
    "pycharm": {
     "name": "#%%\n",
     "is_executing": false
    }
   }
  },
  {
   "cell_type": "code",
   "execution_count": 9,
   "outputs": [
    {
     "name": "stdout",
     "text": [
      "     新增死亡    新增治愈     新增确诊\n",
      "0    52.0  1986.0    401.0\n",
      "1    68.0  2223.0    499.0\n",
      "2   149.0  1405.0    203.0\n",
      "3    96.0  1653.0    630.0\n",
      "4   106.0  1809.0    792.0\n",
      "5   115.0  1360.0    631.0\n",
      "6   108.0  1185.0    349.0\n",
      "7   132.0  1393.0   1693.0\n",
      "8    93.0  1250.0   1807.0\n",
      "9   100.0  1027.0   1933.0\n",
      "10  139.0   845.0   1843.0\n",
      "11   31.0   690.0   2420.0\n",
      "12  116.0   672.0   3780.0\n",
      "13  242.0   773.0  14840.0\n",
      "14   94.0   376.0   1638.0\n",
      "15  103.0   456.0   2097.0\n",
      "16   91.0   374.0   2531.0\n",
      "17   81.0   262.0   2147.0\n",
      "18   81.0   351.0   2841.0\n",
      "19   69.0   155.0   2447.0\n",
      "20   70.0   175.0   2987.0\n",
      "21   65.0   139.0   3156.0\n",
      "22   64.0    98.0   2345.0\n",
      "23   56.0    33.0   2103.0\n",
      "24   45.0    99.0   1921.0\n",
      "25   45.0    27.0   1347.0\n",
      "26   42.0    51.0    903.0\n",
      "27   37.0     3.0   1349.0\n",
      "28   25.0    35.0    840.0\n",
      "29   24.0     5.0   1291.0\n",
      "30   24.0     5.0    365.0\n",
      "31   13.0    10.0    328.0\n",
      "32   15.0     1.0    181.0\n",
      "33   24.0    31.0    549.0\n"
     ],
     "output_type": "stream"
    }
   ],
   "source": [
    "#提取对应省份的数据\n",
    "data_hb=dataf.loc[dataf['省']=='湖北省'].iloc[:,1:4]\n",
    "print(data_hb)\n",
    "# data_hb.iloc[5,2]=(data_hb.iloc[4,2]+data_hb.iloc[6,2])/2\n",
    "#对数据进行处理，将数据中的负数消除\n",
    "for index,data in data_hb.iterrows():\n",
    "    for name in data.iteritems():\n",
    "        if name[1]<0:\n",
    "            # data_hb.loc[index+1,name[0]]+=name[1]\n",
    "            data_hb.loc[index,name[0]]=0\n",
    "data_hb=data_hb.iloc[::-1]\n",
    "data_hb.to_csv(data_path+'data_hubei_2.26.txt', header=0,index=False)"
   ],
   "metadata": {
    "collapsed": false,
    "pycharm": {
     "name": "#%%\n",
     "is_executing": false
    }
   }
  },
  {
   "cell_type": "code",
   "execution_count": 8,
   "outputs": [
    {
     "name": "stdout",
     "text": [
      "     新增死亡  新增治愈   新增确诊\n",
      "519   0.0   1.0   43.0\n",
      "518   0.0   0.0   19.0\n",
      "517   0.0   0.0   42.0\n",
      "516   0.0   0.0   24.0\n",
      "515   0.0   2.0   45.0\n",
      "514   0.0   0.0  123.0\n",
      "513   0.0   1.0  132.0\n",
      "512   0.0  10.0  110.0\n",
      "511   0.0   7.0   61.0\n",
      "510   0.0  11.0   62.0\n",
      "509   0.0  11.0   63.0\n",
      "508   0.0  19.0  105.0\n",
      "507   0.0  16.0   66.0\n",
      "506   0.0  16.0   59.0\n",
      "505   0.0  29.0   52.0\n",
      "504   0.0  52.0   42.0\n",
      "503   0.0  26.0   27.0\n",
      "502   0.0  41.0   17.0\n",
      "501   0.0  28.0   25.0\n",
      "500   0.0  51.0   14.0\n",
      "499   0.0  39.0   14.0\n",
      "498   0.0  43.0   10.0\n",
      "497   0.0  25.0    7.0\n",
      "496   0.0  28.0    5.0\n",
      "495   0.0  51.0    4.0\n",
      "494   0.0   7.0    1.0\n"
     ],
     "output_type": "stream"
    },
    {
     "data": {
      "text/plain": "<Figure size 432x288 with 1 Axes>",
      "image/png": "[encoded data removed]"
     },
     "metadata": {
      "needs_background": "light"
     },
     "output_type": "display_data"
    }
   ],
   "source": [
    "print(data_zj)\n",
    "data_zj.plot(title='浙江省新增情况图',use_index=False)\n",
    "plt.savefig('figure/zhejiang.png',dpi=500)\n",
    "plt.show()"
   ],
   "metadata": {
    "collapsed": false,
    "pycharm": {
     "name": "#%%\n",
     "is_executing": false
    }
   }
  },
  {
   "cell_type": "code",
   "execution_count": 9,
   "outputs": [
    {
     "data": {
      "text/plain": "<Figure size 432x288 with 1 Axes>",
      "image/png": "[encoded data removed]"
     },
     "metadata": {
      "needs_background": "light"
     },
     "output_type": "display_data"
    }
   ],
   "source": [
    "data_hb.plot(title='湖北省新增情况图',use_index=False)\n",
    "plt.savefig('figure/hubei.png',dpi=500)\n",
    "plt.show()"
   ],
   "metadata": {
    "collapsed": false,
    "pycharm": {
     "name": "#%%\n",
     "is_executing": false
    }
   }
  },
  {
   "cell_type": "code",
   "execution_count": 54,
   "outputs": [
    {
     "name": "stdout",
     "text": [
      "      0     1      2\n",
      "33  0.0  59.0    0.0\n",
      "32  0.0  26.0    0.0\n",
      "31  0.0  22.0    0.0\n",
      "30  0.0  41.0    0.0\n",
      "29  0.0  40.0    2.0\n",
      "28  0.0  46.0   28.0\n",
      "27  1.0  29.0    1.0\n",
      "26  0.0  69.0    2.0\n",
      "25  0.0  28.0    1.0\n",
      "24  0.0  51.0    4.0\n",
      "23  0.0  28.0    5.0\n",
      "22  0.0  25.0    7.0\n",
      "21  0.0  43.0   10.0\n",
      "20  0.0  39.0   14.0\n",
      "19  0.0  51.0   14.0\n",
      "18  0.0  28.0   25.0\n",
      "17  0.0  41.0   17.0\n",
      "16  0.0  26.0   27.0\n",
      "15  0.0  52.0   42.0\n",
      "14  0.0  29.0   52.0\n",
      "13  0.0  16.0   59.0\n",
      "12  0.0  16.0   66.0\n",
      "11  0.0  19.0  105.0\n",
      "10  0.0  11.0   63.0\n",
      "9   1.0  11.0   62.0\n",
      "8   0.0   7.0   61.0\n",
      "7   0.0  10.0  110.0\n",
      "6   0.0   1.0  132.0\n",
      "5   0.0   0.0  123.0\n",
      "4   0.0   2.0   45.0\n",
      "3   0.0   0.0   24.0\n",
      "2   0.0   0.0   42.0\n",
      "1   0.0   0.0   19.0\n",
      "0   0.0   1.0   43.0\n"
     ],
     "output_type": "stream"
    }
   ],
   "source": [
    "#读取模型\n",
    "with open('save/zhejiang.pt', 'rb') as f:\n",
    "    model = torch.load(f)\n",
    "data_zj=pd.read_table('data/data_zhejiang_2.26.txt',header=None,sep=',')\n",
    "data_zj=data_zj[::-1]\n",
    "print(data_zj)"
   ],
   "metadata": {
    "collapsed": false,
    "pycharm": {
     "name": "#%%\n",
     "is_executing": false
    }
   }
  },
  {
   "cell_type": "code",
   "execution_count": 19,
   "outputs": [
    {
     "name": "stdout",
     "text": [
      "      0     1     2\n",
      "28  0.0  46.0  28.0\n",
      "27  1.0  29.0   1.0\n",
      "26  0.0  69.0   2.0\n",
      "25  0.0  28.0   1.0\n",
      "24  0.0  51.0   4.0\n"
     ],
     "output_type": "stream"
    }
   ],
   "source": [],
   "metadata": {
    "collapsed": false,
    "pycharm": {
     "name": "#%%\n",
     "is_executing": false
    }
   }
  },
  {
   "cell_type": "code",
   "execution_count": 55,
   "outputs": [
    {
     "name": "stdout",
     "text": [
      "[[[ 0. 51.  4.]\n",
      "  [ 0. 28.  1.]\n",
      "  [ 0. 69.  2.]\n",
      "  [ 1. 29.  1.]\n",
      "  [ 0. 46. 28.]]]\n"
     ],
     "output_type": "stream"
    },
    {
     "traceback": [
      "\u001b[1;31m---------------------------------------------------------------------------\u001b[0m",
      "\u001b[1;31mRuntimeError\u001b[0m                              Traceback (most recent call last)",
      "\u001b[1;32m<ipython-input-55-dd82e3215a34>\u001b[0m in \u001b[0;36m<module>\u001b[1;34m\u001b[0m\n\u001b[0;32m      8\u001b[0m \u001b[0mprint\u001b[0m\u001b[1;33m(\u001b[0m\u001b[0mdt\u001b[0m\u001b[1;33m)\u001b[0m\u001b[1;33m\u001b[0m\u001b[0m\n\u001b[0;32m      9\u001b[0m \u001b[0mx\u001b[0m\u001b[1;33m=\u001b[0m\u001b[0mVariable\u001b[0m\u001b[1;33m(\u001b[0m\u001b[0mtorch\u001b[0m\u001b[1;33m.\u001b[0m\u001b[0mFloatTensor\u001b[0m\u001b[1;33m(\u001b[0m\u001b[0mdt\u001b[0m\u001b[1;33m)\u001b[0m\u001b[1;33m)\u001b[0m\u001b[1;33m\u001b[0m\u001b[0m\n\u001b[1;32m---> 10\u001b[1;33m \u001b[0my\u001b[0m\u001b[1;33m=\u001b[0m\u001b[0mmodel\u001b[0m\u001b[1;33m(\u001b[0m\u001b[0mx\u001b[0m\u001b[1;33m)\u001b[0m\u001b[1;33m.\u001b[0m\u001b[0mdata\u001b[0m\u001b[1;33m.\u001b[0m\u001b[0mnumpy\u001b[0m\u001b[1;33m(\u001b[0m\u001b[1;33m)\u001b[0m\u001b[1;33m\u001b[0m\u001b[0m\n\u001b[0m\u001b[0;32m     11\u001b[0m \u001b[0mY\u001b[0m\u001b[1;33m=\u001b[0m\u001b[0mnp\u001b[0m\u001b[1;33m.\u001b[0m\u001b[0mexpand_dims\u001b[0m\u001b[1;33m(\u001b[0m\u001b[0my\u001b[0m\u001b[1;33m,\u001b[0m\u001b[0maxis\u001b[0m\u001b[1;33m=\u001b[0m\u001b[1;36m0\u001b[0m\u001b[1;33m)\u001b[0m\u001b[1;33m\u001b[0m\u001b[0m\n\u001b[0;32m     12\u001b[0m \u001b[1;31m#预测的后5个值\u001b[0m\u001b[1;33m\u001b[0m\u001b[1;33m\u001b[0m\u001b[0m\n",
      "\u001b[1;32mD:\\Software\\Anaconda\\envs\\pytorch\\lib\\site-packages\\torch\\nn\\modules\\module.py\u001b[0m in \u001b[0;36m__call__\u001b[1;34m(self, *input, **kwargs)\u001b[0m\n\u001b[0;32m    530\u001b[0m             \u001b[0mresult\u001b[0m \u001b[1;33m=\u001b[0m \u001b[0mself\u001b[0m\u001b[1;33m.\u001b[0m\u001b[0m_slow_forward\u001b[0m\u001b[1;33m(\u001b[0m\u001b[1;33m*\u001b[0m\u001b[0minput\u001b[0m\u001b[1;33m,\u001b[0m \u001b[1;33m**\u001b[0m\u001b[0mkwargs\u001b[0m\u001b[1;33m)\u001b[0m\u001b[1;33m\u001b[0m\u001b[0m\n\u001b[0;32m    531\u001b[0m         \u001b[1;32melse\u001b[0m\u001b[1;33m:\u001b[0m\u001b[1;33m\u001b[0m\u001b[0m\n\u001b[1;32m--> 532\u001b[1;33m             \u001b[0mresult\u001b[0m \u001b[1;33m=\u001b[0m \u001b[0mself\u001b[0m\u001b[1;33m.\u001b[0m\u001b[0mforward\u001b[0m\u001b[1;33m(\u001b[0m\u001b[1;33m*\u001b[0m\u001b[0minput\u001b[0m\u001b[1;33m,\u001b[0m \u001b[1;33m**\u001b[0m\u001b[0mkwargs\u001b[0m\u001b[1;33m)\u001b[0m\u001b[1;33m\u001b[0m\u001b[0m\n\u001b[0m\u001b[0;32m    533\u001b[0m         \u001b[1;32mfor\u001b[0m \u001b[0mhook\u001b[0m \u001b[1;32min\u001b[0m \u001b[0mself\u001b[0m\u001b[1;33m.\u001b[0m\u001b[0m_forward_hooks\u001b[0m\u001b[1;33m.\u001b[0m\u001b[0mvalues\u001b[0m\u001b[1;33m(\u001b[0m\u001b[1;33m)\u001b[0m\u001b[1;33m:\u001b[0m\u001b[1;33m\u001b[0m\u001b[0m\n\u001b[0;32m    534\u001b[0m             \u001b[0mhook_result\u001b[0m \u001b[1;33m=\u001b[0m \u001b[0mhook\u001b[0m\u001b[1;33m(\u001b[0m\u001b[0mself\u001b[0m\u001b[1;33m,\u001b[0m \u001b[0minput\u001b[0m\u001b[1;33m,\u001b[0m \u001b[0mresult\u001b[0m\u001b[1;33m)\u001b[0m\u001b[1;33m\u001b[0m\u001b[0m\n",
      "\u001b[1;32mD:\\Codes\\nCov\\LSTNet-master\\models\\LSTNet.py\u001b[0m in \u001b[0;36mforward\u001b[1;34m(self, x)\u001b[0m\n\u001b[0;32m     36\u001b[0m \u001b[1;33m\u001b[0m\u001b[0m\n\u001b[0;32m     37\u001b[0m         \u001b[1;31m#CNN\u001b[0m\u001b[1;33m\u001b[0m\u001b[1;33m\u001b[0m\u001b[0m\n\u001b[1;32m---> 38\u001b[1;33m         \u001b[0mc\u001b[0m \u001b[1;33m=\u001b[0m \u001b[0mx\u001b[0m\u001b[1;33m.\u001b[0m\u001b[0mview\u001b[0m\u001b[1;33m(\u001b[0m\u001b[1;33m-\u001b[0m\u001b[1;36m1\u001b[0m\u001b[1;33m,\u001b[0m \u001b[1;36m1\u001b[0m\u001b[1;33m,\u001b[0m \u001b[0mself\u001b[0m\u001b[1;33m.\u001b[0m\u001b[0mP\u001b[0m\u001b[1;33m,\u001b[0m \u001b[0mself\u001b[0m\u001b[1;33m.\u001b[0m\u001b[0mm\u001b[0m\u001b[1;33m)\u001b[0m\u001b[1;33m;\u001b[0m\u001b[1;33m\u001b[0m\u001b[0m\n\u001b[0m\u001b[0;32m     39\u001b[0m         \u001b[0mc\u001b[0m \u001b[1;33m=\u001b[0m \u001b[0mF\u001b[0m\u001b[1;33m.\u001b[0m\u001b[0mrelu\u001b[0m\u001b[1;33m(\u001b[0m\u001b[0mself\u001b[0m\u001b[1;33m.\u001b[0m\u001b[0mconv1\u001b[0m\u001b[1;33m(\u001b[0m\u001b[0mc\u001b[0m\u001b[1;33m)\u001b[0m\u001b[1;33m)\u001b[0m\u001b[1;33m;\u001b[0m\u001b[1;33m\u001b[0m\u001b[0m\n\u001b[0;32m     40\u001b[0m         \u001b[0mc\u001b[0m \u001b[1;33m=\u001b[0m \u001b[0mself\u001b[0m\u001b[1;33m.\u001b[0m\u001b[0mdropout\u001b[0m\u001b[1;33m(\u001b[0m\u001b[0mc\u001b[0m\u001b[1;33m)\u001b[0m\u001b[1;33m;\u001b[0m\u001b[1;33m\u001b[0m\u001b[0m\n",
      "\u001b[1;31mRuntimeError\u001b[0m: shape '[-1, 1, 7, 3]' is invalid for input of size 15"
     ],
     "ename": "RuntimeError",
     "evalue": "shape '[-1, 1, 7, 3]' is invalid for input of size 15",
     "output_type": "error"
    }
   ],
   "source": [
    "i=0\n",
    "dt=data_zj.iloc[5:10,:]\n",
    "dt=dt[::-1]\n",
    "#预测的前5个值\n",
    "first_5=dt\n",
    "dt=dt.values\n",
    "dt=np.expand_dims(dt,axis=0)\n",
    "print(dt)\n",
    "x=Variable(torch.FloatTensor(dt))\n",
    "y=model(x).data.numpy()\n",
    "Y=np.expand_dims(y,axis=0)\n",
    "#预测的后5个值\n",
    "later_5=pd.DataFrame(y)"
   ],
   "metadata": {
    "collapsed": false,
    "pycharm": {
     "name": "#%%\n",
     "is_executing": false
    }
   }
  },
  {
   "cell_type": "code",
   "execution_count": 56,
   "outputs": [
    {
     "traceback": [
      "\u001b[1;31m---------------------------------------------------------------------------\u001b[0m",
      "\u001b[1;31mRuntimeError\u001b[0m                              Traceback (most recent call last)",
      "\u001b[1;32m<ipython-input-56-5849d8707cb6>\u001b[0m in \u001b[0;36m<module>\u001b[1;34m\u001b[0m\n\u001b[0;32m      3\u001b[0m \u001b[1;32mfor\u001b[0m \u001b[0mi\u001b[0m \u001b[1;32min\u001b[0m \u001b[0mrange\u001b[0m\u001b[1;33m(\u001b[0m\u001b[1;36m4\u001b[0m\u001b[1;33m)\u001b[0m\u001b[1;33m:\u001b[0m\u001b[1;33m\u001b[0m\u001b[0m\n\u001b[0;32m      4\u001b[0m     \u001b[0mx\u001b[0m\u001b[1;33m=\u001b[0m\u001b[0mVariable\u001b[0m\u001b[1;33m(\u001b[0m\u001b[0mtorch\u001b[0m\u001b[1;33m.\u001b[0m\u001b[0mFloatTensor\u001b[0m\u001b[1;33m(\u001b[0m\u001b[0mdt_1\u001b[0m\u001b[1;33m)\u001b[0m\u001b[1;33m)\u001b[0m\u001b[1;33m\u001b[0m\u001b[0m\n\u001b[1;32m----> 5\u001b[1;33m     \u001b[0my\u001b[0m\u001b[1;33m=\u001b[0m\u001b[0mmodel\u001b[0m\u001b[1;33m(\u001b[0m\u001b[0mx\u001b[0m\u001b[1;33m)\u001b[0m\u001b[1;33m.\u001b[0m\u001b[0mdata\u001b[0m\u001b[1;33m.\u001b[0m\u001b[0mnumpy\u001b[0m\u001b[1;33m(\u001b[0m\u001b[1;33m)\u001b[0m\u001b[1;33m\u001b[0m\u001b[0m\n\u001b[0m\u001b[0;32m      6\u001b[0m     \u001b[0mY\u001b[0m\u001b[1;33m=\u001b[0m\u001b[0mnp\u001b[0m\u001b[1;33m.\u001b[0m\u001b[0mexpand_dims\u001b[0m\u001b[1;33m(\u001b[0m\u001b[0my\u001b[0m\u001b[1;33m,\u001b[0m\u001b[0maxis\u001b[0m\u001b[1;33m=\u001b[0m\u001b[1;36m0\u001b[0m\u001b[1;33m)\u001b[0m\u001b[1;33m\u001b[0m\u001b[0m\n\u001b[0;32m      7\u001b[0m     \u001b[0mlater_5\u001b[0m\u001b[1;33m=\u001b[0m\u001b[0mlater_5\u001b[0m\u001b[1;33m.\u001b[0m\u001b[0mappend\u001b[0m\u001b[1;33m(\u001b[0m\u001b[0mpd\u001b[0m\u001b[1;33m.\u001b[0m\u001b[0mDataFrame\u001b[0m\u001b[1;33m(\u001b[0m\u001b[0my\u001b[0m\u001b[1;33m)\u001b[0m\u001b[1;33m)\u001b[0m\u001b[1;33m\u001b[0m\u001b[0m\n",
      "\u001b[1;32mD:\\Software\\Anaconda\\envs\\pytorch\\lib\\site-packages\\torch\\nn\\modules\\module.py\u001b[0m in \u001b[0;36m__call__\u001b[1;34m(self, *input, **kwargs)\u001b[0m\n\u001b[0;32m    530\u001b[0m             \u001b[0mresult\u001b[0m \u001b[1;33m=\u001b[0m \u001b[0mself\u001b[0m\u001b[1;33m.\u001b[0m\u001b[0m_slow_forward\u001b[0m\u001b[1;33m(\u001b[0m\u001b[1;33m*\u001b[0m\u001b[0minput\u001b[0m\u001b[1;33m,\u001b[0m \u001b[1;33m**\u001b[0m\u001b[0mkwargs\u001b[0m\u001b[1;33m)\u001b[0m\u001b[1;33m\u001b[0m\u001b[0m\n\u001b[0;32m    531\u001b[0m         \u001b[1;32melse\u001b[0m\u001b[1;33m:\u001b[0m\u001b[1;33m\u001b[0m\u001b[0m\n\u001b[1;32m--> 532\u001b[1;33m             \u001b[0mresult\u001b[0m \u001b[1;33m=\u001b[0m \u001b[0mself\u001b[0m\u001b[1;33m.\u001b[0m\u001b[0mforward\u001b[0m\u001b[1;33m(\u001b[0m\u001b[1;33m*\u001b[0m\u001b[0minput\u001b[0m\u001b[1;33m,\u001b[0m \u001b[1;33m**\u001b[0m\u001b[0mkwargs\u001b[0m\u001b[1;33m)\u001b[0m\u001b[1;33m\u001b[0m\u001b[0m\n\u001b[0m\u001b[0;32m    533\u001b[0m         \u001b[1;32mfor\u001b[0m \u001b[0mhook\u001b[0m \u001b[1;32min\u001b[0m \u001b[0mself\u001b[0m\u001b[1;33m.\u001b[0m\u001b[0m_forward_hooks\u001b[0m\u001b[1;33m.\u001b[0m\u001b[0mvalues\u001b[0m\u001b[1;33m(\u001b[0m\u001b[1;33m)\u001b[0m\u001b[1;33m:\u001b[0m\u001b[1;33m\u001b[0m\u001b[0m\n\u001b[0;32m    534\u001b[0m             \u001b[0mhook_result\u001b[0m \u001b[1;33m=\u001b[0m \u001b[0mhook\u001b[0m\u001b[1;33m(\u001b[0m\u001b[0mself\u001b[0m\u001b[1;33m,\u001b[0m \u001b[0minput\u001b[0m\u001b[1;33m,\u001b[0m \u001b[0mresult\u001b[0m\u001b[1;33m)\u001b[0m\u001b[1;33m\u001b[0m\u001b[0m\n",
      "\u001b[1;32mD:\\Codes\\nCov\\LSTNet-master\\models\\LSTNet.py\u001b[0m in \u001b[0;36mforward\u001b[1;34m(self, x)\u001b[0m\n\u001b[0;32m     36\u001b[0m \u001b[1;33m\u001b[0m\u001b[0m\n\u001b[0;32m     37\u001b[0m         \u001b[1;31m#CNN\u001b[0m\u001b[1;33m\u001b[0m\u001b[1;33m\u001b[0m\u001b[0m\n\u001b[1;32m---> 38\u001b[1;33m         \u001b[0mc\u001b[0m \u001b[1;33m=\u001b[0m \u001b[0mx\u001b[0m\u001b[1;33m.\u001b[0m\u001b[0mview\u001b[0m\u001b[1;33m(\u001b[0m\u001b[1;33m-\u001b[0m\u001b[1;36m1\u001b[0m\u001b[1;33m,\u001b[0m \u001b[1;36m1\u001b[0m\u001b[1;33m,\u001b[0m \u001b[0mself\u001b[0m\u001b[1;33m.\u001b[0m\u001b[0mP\u001b[0m\u001b[1;33m,\u001b[0m \u001b[0mself\u001b[0m\u001b[1;33m.\u001b[0m\u001b[0mm\u001b[0m\u001b[1;33m)\u001b[0m\u001b[1;33m;\u001b[0m\u001b[1;33m\u001b[0m\u001b[0m\n\u001b[0m\u001b[0;32m     39\u001b[0m         \u001b[0mc\u001b[0m \u001b[1;33m=\u001b[0m \u001b[0mF\u001b[0m\u001b[1;33m.\u001b[0m\u001b[0mrelu\u001b[0m\u001b[1;33m(\u001b[0m\u001b[0mself\u001b[0m\u001b[1;33m.\u001b[0m\u001b[0mconv1\u001b[0m\u001b[1;33m(\u001b[0m\u001b[0mc\u001b[0m\u001b[1;33m)\u001b[0m\u001b[1;33m)\u001b[0m\u001b[1;33m;\u001b[0m\u001b[1;33m\u001b[0m\u001b[0m\n\u001b[0;32m     40\u001b[0m         \u001b[0mc\u001b[0m \u001b[1;33m=\u001b[0m \u001b[0mself\u001b[0m\u001b[1;33m.\u001b[0m\u001b[0mdropout\u001b[0m\u001b[1;33m(\u001b[0m\u001b[0mc\u001b[0m\u001b[1;33m)\u001b[0m\u001b[1;33m;\u001b[0m\u001b[1;33m\u001b[0m\u001b[0m\n",
      "\u001b[1;31mRuntimeError\u001b[0m: shape '[-1, 1, 7, 3]' is invalid for input of size 15"
     ],
     "ename": "RuntimeError",
     "evalue": "shape '[-1, 1, 7, 3]' is invalid for input of size 15",
     "output_type": "error"
    }
   ],
   "source": [
    "new_dt=dt[:,1:,:]\n",
    "dt_1=np.concatenate((new_dt,Y),axis=1)\n",
    "for i in range(4):\n",
    "    x=Variable(torch.FloatTensor(dt_1))\n",
    "    y=model(x).data.numpy()\n",
    "    Y=np.expand_dims(y,axis=0)\n",
    "    later_5=later_5.append(pd.DataFrame(y))\n",
    "    dt_1=dt_1[:,1:,:]\n",
    "    dt_1=np.concatenate((dt_1,Y),axis=1)"
   ],
   "metadata": {
    "collapsed": false,
    "pycharm": {
     "name": "#%%\n",
     "is_executing": false
    }
   }
  },
  {
   "cell_type": "code",
   "execution_count": 58,
   "outputs": [
    {
     "name": "stdout",
     "text": [
      "          0          1          2\n",
      "0  0.000000  51.000000   4.000000\n",
      "1  0.000000  28.000000   1.000000\n",
      "2  0.000000  69.000000   2.000000\n",
      "3  1.000000  29.000000   1.000000\n",
      "4  0.000000  46.000000  28.000000\n",
      "5  0.058280  33.094639   6.452974\n",
      "6 -0.154257  32.226162  13.061096\n",
      "7 -0.344203  26.102453  10.647651\n",
      "8 -0.558568  24.941467   9.514442\n",
      "9 -0.661092  20.453184   7.160180\n"
     ],
     "output_type": "stream"
    }
   ],
   "source": [
    "predict_10=first_5.append(later_5).reset_index(drop=True)\n",
    "print(predict_10)"
   ],
   "metadata": {
    "collapsed": false,
    "pycharm": {
     "name": "#%%\n",
     "is_executing": false
    }
   }
  },
  {
   "cell_type": "code",
   "execution_count": 59,
   "outputs": [
    {
     "name": "stdout",
     "text": [
      "     0     1     2\n",
      "9  0.0  51.0   4.0\n",
      "8  0.0  28.0   1.0\n",
      "7  0.0  69.0   2.0\n",
      "6  1.0  29.0   1.0\n",
      "5  0.0  46.0  28.0\n",
      "4  0.0  40.0   2.0\n",
      "3  0.0  41.0   0.0\n",
      "2  0.0  22.0   0.0\n",
      "1  0.0  26.0   0.0\n",
      "0  0.0  59.0   0.0\n"
     ],
     "output_type": "stream"
    }
   ],
   "source": [
    "#读取真实值\n",
    "# data_true=pd.read_table('data/data_zhejiang_2.20.txt',header=None,sep=',')\n",
    "data_true=data_zj.iloc[:10,:].reset_index(drop=True)\n",
    "data_true=data_true[::-1]\n",
    "print(data_true)"
   ],
   "metadata": {
    "collapsed": false,
    "pycharm": {
     "name": "#%%\n",
     "is_executing": false
    }
   }
  },
  {
   "cell_type": "code",
   "execution_count": 47,
   "outputs": [],
   "source": [],
   "metadata": {
    "collapsed": false,
    "pycharm": {
     "name": "#%%\n",
     "is_executing": false
    }
   }
  },
  {
   "cell_type": "code",
   "execution_count": 60,
   "outputs": [
    {
     "data": {
      "text/plain": "<Figure size 432x288 with 1 Axes>",
      "image/png": "[encoded data removed]"
     },
     "metadata": {
      "needs_background": "light"
     },
     "output_type": "display_data"
    }
   ],
   "source": [
    "import matplotlib.dates as mdate\n",
    "\n",
    "#显示新增治愈图像\n",
    "plt.plot(pd.date_range('2020-2-17','2020-2-26',freq='1d'),data_true.iloc[:,1],label='实际值')\n",
    "plt.plot(pd.date_range('2020-2-17','2020-2-26',freq='1d'),predict_10.iloc[:,1],label='预测值')\n",
    "plt.legend()\n",
    "ax = plt.gca() \n",
    "ax.xaxis.set_major_formatter(mdate.DateFormatter('%m/%d')) \n",
    "plt.title('浙江省新增治愈对比图')\n",
    "plt.savefig('figure/浙江省新增治愈对比图_LSTnet.png',dpi=500)"
   ],
   "metadata": {
    "collapsed": false,
    "pycharm": {
     "name": "#%%\n",
     "is_executing": false
    }
   }
  },
  {
   "cell_type": "code",
   "execution_count": 61,
   "outputs": [
    {
     "data": {
      "text/plain": "<Figure size 432x288 with 1 Axes>",
      "image/png": "[encoded data removed]"
     },
     "metadata": {
      "needs_background": "light"
     },
     "output_type": "display_data"
    }
   ],
   "source": [
    "ax = plt.gca() \n",
    "ax.xaxis.set_major_formatter(mdate.DateFormatter('%m/%d')) \n",
    "plt.plot(pd.date_range('2020-2-17','2020-2-26',freq='1d'),data_true.iloc[:,2],label='实际值')\n",
    "plt.plot(pd.date_range('2020-2-17','2020-2-26',freq='1d'),predict_10.iloc[:,2],label='预测值')\n",
    "plt.legend()\n",
    "plt.title('浙江省新增确诊对比图')\n",
    "plt.savefig('figure/浙江省新增确诊对比图_LSTnet.png',dpi=500)"
   ],
   "metadata": {
    "collapsed": false,
    "pycharm": {
     "name": "#%%\n",
     "is_executing": false
    }
   }
  },
  {
   "cell_type": "code",
   "execution_count": 88,
   "outputs": [],
   "source": [
    "#下面的代码对四种模型进行总结\n",
    "data_path='allsum_data/quezhen_zhejiang_2.26.txt'"
   ],
   "metadata": {
    "collapsed": false,
    "pycharm": {
     "name": "#%%\n",
     "is_executing": false
    }
   }
  },
  {
   "cell_type": "code",
   "execution_count": null,
   "outputs": [],
   "source": [
    "#对非湖北省数据进行预测\n",
    "\n",
    "#读取模型\n",
    "with open('save3/nohubei_ARmodel.pt', 'rb') as f:\n",
    "    model = torch.load(f)\n",
    "data_zj=pd.read_table(data_path,header=None,sep=',')\n",
    "\n",
    "dt=data_zj.iloc[-14:-7,:]\n",
    "#预测的前5个值\n",
    "first_7=dt\n",
    "print(first_7)\n",
    "dt=dt.values\n",
    "dt=np.expand_dims(dt,axis=0)\n",
    "# print(first_7)\n",
    "\n",
    "x=Variable(torch.FloatTensor(dt))\n",
    "y=model(x).data.numpy()\n",
    "# print(y)\n",
    "Y=np.expand_dims(y,axis=0)\n",
    "#预测的后5个值\n",
    "later_7=pd.DataFrame(y)\n",
    "new_dt=dt[:,1:,:]\n",
    "dt_1=np.concatenate((new_dt,Y),axis=1)\n",
    "for i in range(6):\n",
    "    x=Variable(torch.FloatTensor(dt_1))\n",
    "    y=model(x).data.numpy()\n",
    "    Y=np.expand_dims(y,axis=0)\n",
    "    later_7=later_7.append(pd.DataFrame(y))\n",
    "    dt_1=dt_1[:,1:,:]\n",
    "    dt_1=np.concatenate((dt_1,Y),axis=1)\n",
    "preditc_ARmodel=first_7.append(later_7).reset_index(drop=True)\n",
    "print(preditc_ARmodel)"
   ],
   "metadata": {
    "collapsed": false,
    "pycharm": {
     "name": "#%%\n"
    }
   }
  },
  {
   "cell_type": "code",
   "execution_count": null,
   "outputs": [],
   "source": [
    "with open('save3/nohubei_LSTNet.pt', 'rb') as f:\n",
    "    model = torch.load(f)\n",
    "data_zj=pd.read_table(data_path,header=None,sep=',')\n",
    "\n",
    "dt=data_zj.iloc[-14:-7,:]\n",
    "#预测的前5个值\n",
    "first_7=dt\n",
    "dt=dt.values\n",
    "dt=np.expand_dims(dt,axis=0)\n",
    "\n",
    "x=Variable(torch.FloatTensor(dt))\n",
    "y=model(x).data.numpy()\n",
    "Y=np.expand_dims(y,axis=0)\n",
    "#预测的后5个值\n",
    "later_7=pd.DataFrame(y)\n",
    "new_dt=dt[:,1:,:]\n",
    "dt_1=np.concatenate((new_dt,Y),axis=1)\n",
    "for i in range(6):\n",
    "    x=Variable(torch.FloatTensor(dt_1))\n",
    "    y=model(x).data.numpy()\n",
    "    Y=np.expand_dims(y,axis=0)\n",
    "    later_7=later_7.append(pd.DataFrame(y))\n",
    "    dt_1=dt_1[:,1:,:]\n",
    "    dt_1=np.concatenate((dt_1,Y),axis=1)\n",
    "preditc_LSTNet=first_7.append(later_7).reset_index(drop=True)\n",
    "print(preditc_LSTNet)"
   ],
   "metadata": {
    "collapsed": false,
    "pycharm": {
     "name": "#%%\n"
    }
   }
  },
  {
   "cell_type": "code",
   "execution_count": null,
   "outputs": [],
   "source": [
    "from math import log \n",
    "#计算α值，截止到2.20日\n",
    "#并同时计算α的中位数和平均值\n",
    "data_zj=pd.read_table(data_path,header=None,sep=',')\n",
    "data_hubei=data_zj\n",
    "alpha=[]\n",
    "alpha_median=[]\n",
    "alpha_mean=[]\n",
    "for i in range(len(data_hubei)-2):\n",
    "    up=log(data_hubei.iloc[2+i]/data_hubei.iloc[2+i-1])\n",
    "    below=log(data_hubei.iloc[2+i-1]/data_hubei.iloc[2+i-2])\n",
    "    if below==0:\n",
    "        up=1;below=1\n",
    "    alpha.append(up/below)\n",
    "    alpha_median.append(np.median(alpha))\n",
    "    alpha_mean.append(np.mean(alpha))\n",
    "\n",
    "hubei_predict=data_hubei[-14:]\n",
    "print(hubei_predict)\n",
    "alpha_select=alpha_median[-1]\n",
    "start=7\n",
    "for i in range(len(hubei_predict)-start):\n",
    "    hubei_predict.iloc[start+i]=int(pow(hubei_predict.iloc[start+i-1]/hubei_predict.iloc[start+i-2],alpha_select)*hubei_predict.iloc[start+i-1])\n",
    "preditc_alpha=hubei_predict"
   ],
   "metadata": {
    "collapsed": false,
    "pycharm": {
     "name": "#%%\n"
    }
   }
  },
  {
   "cell_type": "code",
   "execution_count": null,
   "outputs": [],
   "source": [
    "with open('save3/nohubei_LSTnet_alpha.pt', 'rb') as f:\n",
    "    model = torch.load(f)\n",
    "data_zj=pd.read_table(data_path,header=None,sep=',')\n",
    "\n",
    "dt=data_zj.iloc[-14:-7,:]\n",
    "#预测的前5个值\n",
    "first_7=dt\n",
    "dt=dt.values\n",
    "dt=np.expand_dims(dt,axis=0)\n",
    "\n",
    "x=Variable(torch.FloatTensor(dt))\n",
    "y=model(x).data.numpy()\n",
    "print(y)\n",
    "Y=np.expand_dims(y,axis=0)\n",
    "#预测的后5个值\n",
    "later_7=pd.DataFrame(y)\n",
    "new_dt=dt[:,1:,:]\n",
    "dt_1=np.concatenate((new_dt,Y),axis=1)\n",
    "for i in range(6):\n",
    "    x=Variable(torch.FloatTensor(dt_1))\n",
    "    y=model(x).data.numpy()\n",
    "    Y=np.expand_dims(y,axis=0)\n",
    "    later_7=later_7.append(pd.DataFrame(y))\n",
    "    dt_1=dt_1[:,1:,:]\n",
    "    dt_1=np.concatenate((dt_1,Y),axis=1)\n",
    "preditc_LSTnet_alpha=first_7.append(later_7).reset_index(drop=True)\n",
    "print(preditc_LSTnet_alpha)"
   ],
   "metadata": {
    "collapsed": false,
    "pycharm": {
     "name": "#%%\n"
    }
   }
  },
  {
   "cell_type": "code",
   "execution_count": 101,
   "outputs": [
    {
     "name": "stdout",
     "text": [
      "              0\n",
      "0   1145.000000\n",
      "1   1155.000000\n",
      "2   1162.000000\n",
      "3   1167.000000\n",
      "4   1171.000000\n",
      "5   1172.000000\n",
      "6   1174.000000\n",
      "7   1308.895020\n",
      "8   1291.346191\n",
      "9   1277.035889\n",
      "10  1330.394409\n",
      "11  1388.371338\n",
      "12  1401.608154\n",
      "13  1418.793823\n"
     ],
     "output_type": "stream"
    }
   ],
   "source": [
    "print(preditc_ARmodel)"
   ],
   "metadata": {
    "collapsed": false,
    "pycharm": {
     "name": "#%%\n",
     "is_executing": false
    }
   }
  },
  {
   "cell_type": "code",
   "execution_count": 103,
   "outputs": [
    {
     "data": {
      "text/plain": "<Figure size 432x288 with 1 Axes>",
      "image/png": "[encoded data removed]"
     },
     "metadata": {
      "needs_background": "light"
     },
     "output_type": "display_data"
    }
   ],
   "source": [
    "import matplotlib.dates as mdate\n",
    "\n",
    "#显示新增治愈图像\n",
    "plt.plot(pd.date_range('2020-2-13',periods=14,freq='1d'),data_zj.iloc[-14:,:],label='实际值')\n",
    "plt.plot(pd.date_range('2020-2-13',periods=14,freq='1d'),preditc_ARmodel,label='ARmodel')\n",
    "plt.plot(pd.date_range('2020-2-13',periods=14,freq='1d'),preditc_LSTNet,label='LSTNet')\n",
    "plt.plot(pd.date_range('2020-2-13',periods=14,freq='1d'),preditc_LSTnet_alpha,label='LSTNet_alpha')\n",
    "plt.plot(pd.date_range('2020-2-13',periods=14,freq='1d'),preditc_alpha,label='alpha')\n",
    "plt.legend()\n",
    "ax = plt.gca() \n",
    "ax.xaxis.set_major_formatter(mdate.DateFormatter('%m/%d')) \n",
    "# plt.show()\n",
    "plt.ylim((0, 2000))\n",
    "plt.title('浙江省确诊病例预测图')\n",
    "plt.savefig('figure3/浙江省确诊病例.png',dpi=500)"
   ],
   "metadata": {
    "collapsed": false,
    "pycharm": {
     "name": "#%%\n",
     "is_executing": false
    }
   }
  },
  {
   "cell_type": "code",
   "execution_count": 54,
   "outputs": [
    {
     "name": "stdout",
     "text": [
      "          0\n",
      "20  48206.0\n",
      "21  51986.0\n",
      "22  54406.0\n",
      "23  56249.0\n",
      "24  58182.0\n",
      "25  59989.0\n",
      "26  61682.0\n",
      "               0\n",
      "0   48206.000000\n",
      "1   51986.000000\n",
      "2   54406.000000\n",
      "3   56249.000000\n",
      "4   58182.000000\n",
      "5   59989.000000\n",
      "6   61682.000000\n",
      "7   66253.203125\n",
      "8   68469.093750\n",
      "9   70310.757812\n",
      "10  73415.062500\n",
      "11  77017.929688\n",
      "12  79948.937500\n",
      "13  82873.906250\n"
     ],
     "output_type": "stream"
    }
   ],
   "source": [
    "#对湖北省数据进行预测\n",
    "\n",
    "#读取模型\n",
    "with open('save3/hubei_ARmodel.pt', 'rb') as f:\n",
    "    model = torch.load(f)\n",
    "data_zj=pd.read_table('allsum_data/quezhen_hubei_2.26.txt',header=None,sep=',')\n",
    "\n",
    "dt=data_zj.iloc[-14:-7,:]\n",
    "#预测的前5个值\n",
    "first_7=dt\n",
    "print(first_7)\n",
    "dt=dt.values\n",
    "dt=np.expand_dims(dt,axis=0)\n",
    "# print(first_7)\n",
    "\n",
    "x=Variable(torch.FloatTensor(dt))\n",
    "y=model(x).data.numpy()\n",
    "# print(y)\n",
    "Y=np.expand_dims(y,axis=0)\n",
    "#预测的后5个值\n",
    "later_7=pd.DataFrame(y)\n",
    "new_dt=dt[:,1:,:]\n",
    "dt_1=np.concatenate((new_dt,Y),axis=1)\n",
    "for i in range(6):\n",
    "    x=Variable(torch.FloatTensor(dt_1))\n",
    "    y=model(x).data.numpy()\n",
    "    Y=np.expand_dims(y,axis=0)\n",
    "    later_7=later_7.append(pd.DataFrame(y))\n",
    "    dt_1=dt_1[:,1:,:]\n",
    "    dt_1=np.concatenate((dt_1,Y),axis=1)\n",
    "preditc_ARmodel=first_7.append(later_7).reset_index(drop=True)\n",
    "print(preditc_ARmodel)"
   ],
   "metadata": {
    "collapsed": false,
    "pycharm": {
     "name": "#%%\n",
     "is_executing": false
    }
   }
  },
  {
   "cell_type": "code",
   "execution_count": null,
   "outputs": [],
   "source": [
    "from math import log \n",
    "#计算α值，截止到2.20日\n",
    "#并同时计算α的中位数和平均值\n",
    "data_zj=pd.read_table('allsum_data/quezhen_nohubei_2.26.txt',header=None,sep=',')\n",
    "data_hubei=data_zj\n",
    "alpha=[]\n",
    "alpha_median=[]\n",
    "alpha_mean=[]\n",
    "for i in range(len(data_hubei)-2):\n",
    "    up=log(data_hubei.iloc[2+i]/data_hubei.iloc[2+i-1])\n",
    "    below=log(data_hubei.iloc[2+i-1]/data_hubei.iloc[2+i-2])\n",
    "    alpha.append(up/below)\n",
    "    alpha_median.append(np.median(alpha))\n",
    "    alpha_mean.append(np.mean(alpha))\n",
    "\n",
    "hubei_predict=data_hubei[-14:]\n",
    "print(hubei_predict)\n",
    "alpha_select=alpha_median[-1]\n",
    "start=7\n",
    "for i in range(len(hubei_predict)-start):\n",
    "    hubei_predict.iloc[start+i]=int(pow(hubei_predict.iloc[start+i-1]/hubei_predict.iloc[start+i-2],alpha_select)*hubei_predict.iloc[start+i-1])\n",
    "preditc_alpha=hubei_predict"
   ],
   "metadata": {
    "collapsed": false,
    "pycharm": {
     "name": "#%%\n"
    }
   }
  },
  {
   "cell_type": "code",
   "execution_count": 55,
   "outputs": [
    {
     "name": "stdout",
     "text": [
      "               0\n",
      "0   48206.000000\n",
      "1   51986.000000\n",
      "2   54406.000000\n",
      "3   56249.000000\n",
      "4   58182.000000\n",
      "5   59989.000000\n",
      "6   61682.000000\n",
      "7   32801.886719\n",
      "8   23025.695312\n",
      "9   15264.486328\n",
      "10  15184.677734\n",
      "11  20362.759766\n",
      "12  25168.718750\n",
      "13  27045.318359\n"
     ],
     "output_type": "stream"
    }
   ],
   "source": [
    "with open('save3/hubei_LSTNet.pt', 'rb') as f:\n",
    "    model = torch.load(f)\n",
    "data_zj=pd.read_table('allsum_data/quezhen_hubei_2.26.txt',header=None,sep=',')\n",
    "\n",
    "dt=data_zj.iloc[-14:-7,:]\n",
    "#预测的前5个值\n",
    "first_7=dt\n",
    "dt=dt.values\n",
    "dt=np.expand_dims(dt,axis=0)\n",
    "\n",
    "x=Variable(torch.FloatTensor(dt))\n",
    "y=model(x).data.numpy()\n",
    "Y=np.expand_dims(y,axis=0)\n",
    "#预测的后5个值\n",
    "later_7=pd.DataFrame(y)\n",
    "new_dt=dt[:,1:,:]\n",
    "dt_1=np.concatenate((new_dt,Y),axis=1)\n",
    "for i in range(6):\n",
    "    x=Variable(torch.FloatTensor(dt_1))\n",
    "    y=model(x).data.numpy()\n",
    "    Y=np.expand_dims(y,axis=0)\n",
    "    later_7=later_7.append(pd.DataFrame(y))\n",
    "    dt_1=dt_1[:,1:,:]\n",
    "    dt_1=np.concatenate((dt_1,Y),axis=1)\n",
    "preditc_LSTNet=first_7.append(later_7).reset_index(drop=True)\n",
    "print(preditc_LSTNet)"
   ],
   "metadata": {
    "collapsed": false,
    "pycharm": {
     "name": "#%%\n",
     "is_executing": false
    }
   }
  },
  {
   "cell_type": "code",
   "execution_count": 56,
   "outputs": [
    {
     "name": "stdout",
     "text": [
      "[[64003.64]]\n",
      "                0\n",
      "0    48206.000000\n",
      "1    51986.000000\n",
      "2    54406.000000\n",
      "3    56249.000000\n",
      "4    58182.000000\n",
      "5    59989.000000\n",
      "6    61682.000000\n",
      "7    64003.640625\n",
      "8    67573.773438\n",
      "9    73423.273438\n",
      "10   84957.257812\n",
      "11  110150.484375\n",
      "12  173062.328125\n",
      "13  400416.156250\n"
     ],
     "output_type": "stream"
    }
   ],
   "source": [
    "with open('save3/hubei_LSTnet_alpha.pt', 'rb') as f:\n",
    "    model = torch.load(f)\n",
    "data_zj=pd.read_table('allsum_data/quezhen_hubei_2.26.txt',header=None,sep=',')\n",
    "\n",
    "dt=data_zj.iloc[-14:-7,:]\n",
    "#预测的前5个值\n",
    "first_7=dt\n",
    "dt=dt.values\n",
    "dt=np.expand_dims(dt,axis=0)\n",
    "\n",
    "x=Variable(torch.FloatTensor(dt))\n",
    "y=model(x).data.numpy()\n",
    "print(y)\n",
    "Y=np.expand_dims(y,axis=0)\n",
    "#预测的后5个值\n",
    "later_7=pd.DataFrame(y)\n",
    "new_dt=dt[:,1:,:]\n",
    "dt_1=np.concatenate((new_dt,Y),axis=1)\n",
    "for i in range(6):\n",
    "    x=Variable(torch.FloatTensor(dt_1))\n",
    "    y=model(x).data.numpy()\n",
    "    Y=np.expand_dims(y,axis=0)\n",
    "    later_7=later_7.append(pd.DataFrame(y))\n",
    "    dt_1=dt_1[:,1:,:]\n",
    "    dt_1=np.concatenate((dt_1,Y),axis=1)\n",
    "preditc_LSTnet_alpha=first_7.append(later_7).reset_index(drop=True)\n",
    "print(preditc_LSTnet_alpha)"
   ],
   "metadata": {
    "collapsed": false,
    "pycharm": {
     "name": "#%%\n",
     "is_executing": false
    }
   }
  },
  {
   "cell_type": "code",
   "execution_count": 57,
   "outputs": [
    {
     "name": "stdout",
     "text": [
      "               0\n",
      "0   48206.000000\n",
      "1   51986.000000\n",
      "2   54406.000000\n",
      "3   56249.000000\n",
      "4   58182.000000\n",
      "5   59989.000000\n",
      "6   61682.000000\n",
      "7   66253.203125\n",
      "8   68469.093750\n",
      "9   70310.757812\n",
      "10  73415.062500\n",
      "11  77017.929688\n",
      "12  79948.937500\n",
      "13  82873.906250\n"
     ],
     "output_type": "stream"
    }
   ],
   "source": [
    "print(preditc_ARmodel)"
   ],
   "metadata": {
    "collapsed": false,
    "pycharm": {
     "name": "#%%\n",
     "is_executing": false
    }
   }
  },
  {
   "cell_type": "code",
   "execution_count": 58,
   "outputs": [
    {
     "data": {
      "text/plain": "<Figure size 432x288 with 1 Axes>",
      "image/png": "[encoded data removed]"
     },
     "metadata": {
      "needs_background": "light"
     },
     "output_type": "display_data"
    }
   ],
   "source": [
    "import matplotlib.dates as mdate\n",
    "\n",
    "#显示新增治愈图像\n",
    "plt.plot(pd.date_range('2020-2-13',periods=14,freq='1d'),data_zj.iloc[-14:,:],label='实际值')\n",
    "plt.plot(pd.date_range('2020-2-13',periods=14,freq='1d'),preditc_ARmodel,label='ARmodel')\n",
    "plt.plot(pd.date_range('2020-2-13',periods=14,freq='1d'),preditc_LSTNet,label='LSTNet')\n",
    "plt.plot(pd.date_range('2020-2-13',periods=14,freq='1d'),preditc_LSTnet_alpha,label='LSTNet_alpha')\n",
    "plt.legend()\n",
    "ax = plt.gca() \n",
    "ax.xaxis.set_major_formatter(mdate.DateFormatter('%m/%d')) \n",
    "# plt.show()\n",
    "plt.title('湖北省确诊病例预测图')\n",
    "plt.savefig('figure3/湖北省确诊病例.png',dpi=500)"
   ],
   "metadata": {
    "collapsed": false,
    "pycharm": {
     "name": "#%%\n",
     "is_executing": false
    }
   }
  },
  {
   "cell_type": "code",
   "execution_count": null,
   "outputs": [],
   "source": [
    "#对浙江省数据进行预测\n",
    "\n",
    "#读取模型\n",
    "with open('save3/zhejiang_ARmodel.pt', 'rb') as f:\n",
    "    model = torch.load(f)\n",
    "data_zj=pd.read_table('allsum_data/quezhen_nohubei_2.26.txt',header=None,sep=',')\n",
    "\n",
    "dt=data_zj.iloc[-14:-7,:]\n",
    "#预测的前5个值\n",
    "first_7=dt\n",
    "print(first_7)\n",
    "dt=dt.values\n",
    "dt=np.expand_dims(dt,axis=0)\n",
    "# print(first_7)\n",
    "\n",
    "x=Variable(torch.FloatTensor(dt))\n",
    "y=model(x).data.numpy()\n",
    "# print(y)\n",
    "Y=np.expand_dims(y,axis=0)\n",
    "#预测的后5个值\n",
    "later_7=pd.DataFrame(y)\n",
    "new_dt=dt[:,1:,:]\n",
    "dt_1=np.concatenate((new_dt,Y),axis=1)\n",
    "for i in range(6):\n",
    "    x=Variable(torch.FloatTensor(dt_1))\n",
    "    y=model(x).data.numpy()\n",
    "    Y=np.expand_dims(y,axis=0)\n",
    "    later_7=later_7.append(pd.DataFrame(y))\n",
    "    dt_1=dt_1[:,1:,:]\n",
    "    dt_1=np.concatenate((dt_1,Y),axis=1)\n",
    "preditc_ARmodel=first_7.append(later_7).reset_index(drop=True)\n",
    "print(preditc_ARmodel)"
   ],
   "metadata": {
    "collapsed": false,
    "pycharm": {
     "name": "#%%\n"
    }
   }
  },
  {
   "cell_type": "code",
   "execution_count": null,
   "outputs": [],
   "source": [
    "with open('save3/nohubei_LSTNet.pt', 'rb') as f:\n",
    "    model = torch.load(f)\n",
    "data_zj=pd.read_table('allsum_data/quezhen_nohubei_2.26.txt',header=None,sep=',')\n",
    "\n",
    "dt=data_zj.iloc[-14:-7,:]\n",
    "#预测的前5个值\n",
    "first_7=dt\n",
    "dt=dt.values\n",
    "dt=np.expand_dims(dt,axis=0)\n",
    "\n",
    "x=Variable(torch.FloatTensor(dt))\n",
    "y=model(x).data.numpy()\n",
    "Y=np.expand_dims(y,axis=0)\n",
    "#预测的后5个值\n",
    "later_7=pd.DataFrame(y)\n",
    "new_dt=dt[:,1:,:]\n",
    "dt_1=np.concatenate((new_dt,Y),axis=1)\n",
    "for i in range(6):\n",
    "    x=Variable(torch.FloatTensor(dt_1))\n",
    "    y=model(x).data.numpy()\n",
    "    Y=np.expand_dims(y,axis=0)\n",
    "    later_7=later_7.append(pd.DataFrame(y))\n",
    "    dt_1=dt_1[:,1:,:]\n",
    "    dt_1=np.concatenate((dt_1,Y),axis=1)\n",
    "preditc_LSTNet=first_7.append(later_7).reset_index(drop=True)\n",
    "print(preditc_LSTNet)"
   ],
   "metadata": {
    "collapsed": false,
    "pycharm": {
     "name": "#%%\n"
    }
   }
  },
  {
   "cell_type": "code",
   "execution_count": null,
   "outputs": [],
   "source": [
    "with open('save3/nohubei_LSTnet_alpha.pt', 'rb') as f:\n",
    "    model = torch.load(f)\n",
    "data_zj=pd.read_table('allsum_data/quezhen_nohubei_2.26.txt',header=None,sep=',')\n",
    "\n",
    "dt=data_zj.iloc[-14:-7,:]\n",
    "#预测的前5个值\n",
    "first_7=dt\n",
    "dt=dt.values\n",
    "dt=np.expand_dims(dt,axis=0)\n",
    "\n",
    "x=Variable(torch.FloatTensor(dt))\n",
    "y=model(x).data.numpy()\n",
    "print(y)\n",
    "Y=np.expand_dims(y,axis=0)\n",
    "#预测的后5个值\n",
    "later_7=pd.DataFrame(y)\n",
    "new_dt=dt[:,1:,:]\n",
    "dt_1=np.concatenate((new_dt,Y),axis=1)\n",
    "for i in range(6):\n",
    "    x=Variable(torch.FloatTensor(dt_1))\n",
    "    y=model(x).data.numpy()\n",
    "    Y=np.expand_dims(y,axis=0)\n",
    "    later_7=later_7.append(pd.DataFrame(y))\n",
    "    dt_1=dt_1[:,1:,:]\n",
    "    dt_1=np.concatenate((dt_1,Y),axis=1)\n",
    "preditc_LSTnet_alpha=first_7.append(later_7).reset_index(drop=True)\n",
    "print(preditc_LSTnet_alpha)"
   ],
   "metadata": {
    "collapsed": false,
    "pycharm": {
     "name": "#%%\n"
    }
   }
  },
  {
   "cell_type": "code",
   "execution_count": null,
   "outputs": [],
   "source": [
    "print(preditc_ARmodel)"
   ],
   "metadata": {
    "collapsed": false,
    "pycharm": {
     "name": "#%%\n"
    }
   }
  },
  {
   "cell_type": "code",
   "execution_count": null,
   "outputs": [],
   "source": [
    "import matplotlib.dates as mdate\n",
    "\n",
    "#显示新增治愈图像\n",
    "plt.plot(pd.date_range('2020-2-13',periods=14,freq='1d'),data_zj.iloc[-14:,:],label='实际值')\n",
    "plt.plot(pd.date_range('2020-2-13',periods=14,freq='1d'),preditc_ARmodel,label='ARmodel')\n",
    "plt.plot(pd.date_range('2020-2-13',periods=14,freq='1d'),preditc_LSTNet,label='LSTNet')\n",
    "plt.plot(pd.date_range('2020-2-13',periods=14,freq='1d'),preditc_LSTnet_alpha,label='LSTNet_alpha')\n",
    "plt.legend()\n",
    "ax = plt.gca() \n",
    "ax.xaxis.set_major_formatter(mdate.DateFormatter('%m/%d')) \n",
    "# plt.show()\n",
    "plt.title('非湖北省确诊病例预测图')\n",
    "plt.savefig('figure3/非湖北省确诊病例.png',dpi=500)\n",
    "\n"
   ],
   "metadata": {
    "collapsed": false,
    "pycharm": {
     "name": "#%%\n"
    }
   }
  }
 ],
 "metadata": {
  "kernelspec": {
   "name": "pycharm-d9d7c811",
   "language": "python",
   "display_name": "PyCharm (nCov)"
  },
  "language_info": {
   "codemirror_mode": {
    "name": "ipython",
    "version": 2
   },
   "file_extension": ".py",
   "mimetype": "text/x-python",
   "name": "python",
   "nbconvert_exporter": "python",
   "pygments_lexer": "ipython2",
   "version": "2.7.6"
  },
  "pycharm": {
   "stem_cell": {
    "cell_type": "raw",
    "source": [],
    "metadata": {
     "collapsed": false
    }
   }
  }
 },
 "nbformat": 4,
 "nbformat_minor": 0
}